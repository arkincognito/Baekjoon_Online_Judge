{
  "nbformat": 4,
  "nbformat_minor": 0,
  "metadata": {
    "colab": {
      "name": "Untitled0.ipynb",
      "provenance": [],
      "authorship_tag": "ABX9TyMVps4PjV3YNWwDRDJf9UeH",
      "include_colab_link": true
    },
    "kernelspec": {
      "name": "python3",
      "display_name": "Python 3"
    }
  },
  "cells": [
    {
      "cell_type": "markdown",
      "metadata": {
        "id": "view-in-github",
        "colab_type": "text"
      },
      "source": [
        "<a href=\"https://colab.research.google.com/github/arkincognito/Baekjoon_Online_Judge/blob/master/Baekjoon_19531.ipynb\" target=\"_parent\"><img src=\"https://colab.research.google.com/assets/colab-badge.svg\" alt=\"Open In Colab\"/></a>"
      ]
    },
    {
      "cell_type": "code",
      "metadata": {
        "id": "EjTah7zhMlWJ",
        "colab_type": "code",
        "colab": {}
      },
      "source": [
        ""
      ],
      "execution_count": null,
      "outputs": []
    },
    {
      "cell_type": "code",
      "metadata": {
        "id": "MnaecLpOqE-C",
        "colab_type": "code",
        "colab": {
          "base_uri": "https://localhost:8080/",
          "height": 119
        },
        "outputId": "91dca471-3393-4d65-acb9-13bc9633fe67"
      },
      "source": [
        "from itertools import product, chain \n",
        "n = int(input())\n",
        "sequences = [input() for _ in range(n)]\n",
        "\n",
        "sequences_count = len(sequences)\n",
        "sequence_indices = tuple(range(sequences_count))\n",
        "na2bool = {'A': 1, 'T':2, 'G':3, 'C':4}\n",
        "hashes2prefixes = {}\n",
        "hashes2suffixes = {}\n",
        "sequence2fixesHash = [[set(), set()] for _ in sequence_indices]\n",
        "\n",
        "def rolling_hashes(sequenceIndex, prefix = True):\n",
        "  hash = 0\n",
        "  length = 0\n",
        "  if prefix == True:\n",
        "    for char in sequences[sequenceIndex][:-1]:\n",
        "      hash = (hash % 1000003 * 5 + na2bool[char]) % 1000003\n",
        "      length += 1\n",
        "      yield hash, length\n",
        "  else:\n",
        "    for char in sequences[sequenceIndex][-1:0:-1]:\n",
        "      hash = (hash + (5**length) % 1000003 * na2bool[char]) % 1000003\n",
        "      length += 1\n",
        "      yield hash, length\n",
        "\n",
        "def set_fixes():\n",
        "  global sequence2fixesHash, hashes2prefixes, hashes2suffixes\n",
        "  for sequenceIndex in sequence_indices:\n",
        "    for hash,length in rolling_hashes(sequenceIndex, True):\n",
        "      sequence2fixesHash[sequenceIndex][0].add(hash)\n",
        "      if hash in hashes2prefixes:\n",
        "        if sequenceIndex in hashes2prefixes[hash]:\n",
        "          hashes2prefixes[hash][sequenceIndex].add(length)\n",
        "        else: hashes2prefixes[hash][sequenceIndex] = {length}\n",
        "      else: hashes2prefixes[hash] = {sequenceIndex:{length}}\n",
        "\n",
        "    for hash,length in rolling_hashes(sequenceIndex, False):\n",
        "      sequence2fixesHash[sequenceIndex][1].add(hash)\n",
        "      if hash in hashes2suffixes:\n",
        "        if sequenceIndex in hashes2suffixes[hash]:\n",
        "          hashes2suffixes[hash][sequenceIndex].add(length)\n",
        "        else: hashes2suffixes[hash][sequenceIndex] = {length}\n",
        "      else: hashes2suffixes[hash] = {sequenceIndex:{length}}\n",
        "\n",
        "def compare(si_index, sj_index):\n",
        "  return max(map(lambda x: x if x != None else 0, set(hash_match(prefix_hash, suffix_hash, si_index, sj_index) for prefix_hash, suffix_hash in product(sequence2fixesHash[si_index][0], sequence2fixesHash[sj_index][1]))))\n",
        "\n",
        "def hash_match(prefix_hash, suffix_hash, si_index, sj_index):\n",
        "  if prefix_hash == suffix_hash:\n",
        "    return hashes2prefixes[prefix_hash][si_index].intersection(hashes2suffixes[suffix_hash][sj_index]).pop()\n",
        "\n",
        "set_fixes()\n",
        "print(sum(compare(si_index, sj_index) for si_index, sj_index in product(sequence_indices, sequence_indices)))\n"
      ],
      "execution_count": null,
      "outputs": [
        {
          "output_type": "stream",
          "text": [
            "4\n",
            "TATTATT\n",
            "CTATTAT\n",
            "GTATTAT\n",
            "CCTAT\n",
            "23\n"
          ],
          "name": "stdout"
        }
      ]
    }
  ]
}
